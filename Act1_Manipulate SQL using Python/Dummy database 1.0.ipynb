{
 "cells": [
  {
   "cell_type": "code",
   "execution_count": 1,
   "id": "57ff2520-e15c-48ad-beaf-06aa8c0eb186",
   "metadata": {},
   "outputs": [
    {
     "name": "stdout",
     "output_type": "stream",
     "text": [
      "Collecting mysql-connector-python\n",
      "  Obtaining dependency information for mysql-connector-python from https://files.pythonhosted.org/packages/d3/b8/6798a0f91e595c0704a94c1e32a00ca930f77cb8f0f96c7e4dad4f9db1fe/mysql_connector_python-8.1.0-cp311-cp311-win_amd64.whl.metadata\n",
      "  Downloading mysql_connector_python-8.1.0-cp311-cp311-win_amd64.whl.metadata (2.1 kB)\n",
      "Collecting protobuf<=4.21.12,>=4.21.1 (from mysql-connector-python)\n",
      "  Downloading protobuf-4.21.12-cp310-abi3-win_amd64.whl (527 kB)\n",
      "     ---------------------------------------- 0.0/527.0 kB ? eta -:--:--\n",
      "     ----------------- -------------------- 245.8/527.0 kB 5.0 MB/s eta 0:00:01\n",
      "     ------------------------------- ------ 440.3/527.0 kB 4.6 MB/s eta 0:00:01\n",
      "     -------------------------------------- 527.0/527.0 kB 4.7 MB/s eta 0:00:00\n",
      "Downloading mysql_connector_python-8.1.0-cp311-cp311-win_amd64.whl (10.8 MB)\n",
      "   ---------------------------------------- 0.0/10.8 MB ? eta -:--:--\n",
      "    --------------------------------------- 0.2/10.8 MB 7.3 MB/s eta 0:00:02\n",
      "   -- ------------------------------------- 0.5/10.8 MB 6.8 MB/s eta 0:00:02\n",
      "   --- ------------------------------------ 1.0/10.8 MB 7.0 MB/s eta 0:00:02\n",
      "   ----- ---------------------------------- 1.4/10.8 MB 6.9 MB/s eta 0:00:02\n",
      "   ------ --------------------------------- 1.8/10.8 MB 7.0 MB/s eta 0:00:02\n",
      "   ------- -------------------------------- 2.1/10.8 MB 6.6 MB/s eta 0:00:02\n",
      "   -------- ------------------------------- 2.4/10.8 MB 6.6 MB/s eta 0:00:02\n",
      "   --------- ------------------------------ 2.7/10.8 MB 6.9 MB/s eta 0:00:02\n",
      "   ----------- ---------------------------- 3.1/10.8 MB 6.6 MB/s eta 0:00:02\n",
      "   ------------ --------------------------- 3.5/10.8 MB 6.9 MB/s eta 0:00:02\n",
      "   ------------- -------------------------- 3.8/10.8 MB 6.9 MB/s eta 0:00:02\n",
      "   --------------- ------------------------ 4.1/10.8 MB 6.7 MB/s eta 0:00:01\n",
      "   ---------------- ----------------------- 4.4/10.8 MB 6.7 MB/s eta 0:00:01\n",
      "   ----------------- ---------------------- 4.7/10.8 MB 6.7 MB/s eta 0:00:01\n",
      "   ------------------ --------------------- 5.0/10.8 MB 6.6 MB/s eta 0:00:01\n",
      "   ------------------- -------------------- 5.3/10.8 MB 6.8 MB/s eta 0:00:01\n",
      "   -------------------- ------------------- 5.6/10.8 MB 6.7 MB/s eta 0:00:01\n",
      "   --------------------- ------------------ 5.9/10.8 MB 6.7 MB/s eta 0:00:01\n",
      "   ---------------------- ----------------- 6.2/10.8 MB 6.7 MB/s eta 0:00:01\n",
      "   ------------------------ --------------- 6.5/10.8 MB 6.6 MB/s eta 0:00:01\n",
      "   ------------------------- -------------- 6.8/10.8 MB 6.6 MB/s eta 0:00:01\n",
      "   -------------------------- ------------- 7.1/10.8 MB 6.6 MB/s eta 0:00:01\n",
      "   --------------------------- ------------ 7.4/10.8 MB 6.6 MB/s eta 0:00:01\n",
      "   ---------------------------- ----------- 7.7/10.8 MB 6.6 MB/s eta 0:00:01\n",
      "   ----------------------------- ---------- 8.0/10.8 MB 6.6 MB/s eta 0:00:01\n",
      "   ------------------------------ --------- 8.3/10.8 MB 6.5 MB/s eta 0:00:01\n",
      "   ------------------------------- -------- 8.6/10.8 MB 6.5 MB/s eta 0:00:01\n",
      "   -------------------------------- ------- 8.9/10.8 MB 6.5 MB/s eta 0:00:01\n",
      "   ---------------------------------- ----- 9.2/10.8 MB 6.6 MB/s eta 0:00:01\n",
      "   ----------------------------------- ---- 9.5/10.8 MB 6.6 MB/s eta 0:00:01\n",
      "   ------------------------------------ --- 9.9/10.8 MB 6.5 MB/s eta 0:00:01\n",
      "   ------------------------------------- -- 10.2/10.8 MB 6.6 MB/s eta 0:00:01\n",
      "   -------------------------------------- - 10.5/10.8 MB 6.5 MB/s eta 0:00:01\n",
      "   ---------------------------------------  10.8/10.8 MB 6.6 MB/s eta 0:00:01\n",
      "   ---------------------------------------  10.8/10.8 MB 6.6 MB/s eta 0:00:01\n",
      "   ---------------------------------------- 10.8/10.8 MB 6.3 MB/s eta 0:00:00\n",
      "Installing collected packages: protobuf, mysql-connector-python\n",
      "Successfully installed mysql-connector-python-8.1.0 protobuf-4.21.12\n"
     ]
    }
   ],
   "source": [
    "!pip install mysql-connector-python"
   ]
  },
  {
   "cell_type": "code",
   "execution_count": 2,
   "id": "05691a43-5f5c-43ba-a75f-caf2c2c01ebc",
   "metadata": {
    "scrolled": true
   },
   "outputs": [
    {
     "name": "stdout",
     "output_type": "stream",
     "text": [
      "Name: mysql-connector-python\n",
      "Version: 8.1.0\n",
      "Summary: MySQL driver written in Python\n",
      "Home-page: http://dev.mysql.com/doc/connector-python/en/index.html\n",
      "Author: Oracle and/or its affiliates\n",
      "Author-email: \n",
      "License: GNU GPLv2 (with FOSS License Exception)\n",
      "Location: C:\\Users\\reyes\\AppData\\Local\\Programs\\Python\\Python311\\Lib\\site-packages\n",
      "Requires: protobuf\n",
      "Required-by: \n"
     ]
    }
   ],
   "source": [
    "!pip show mysql-connector-python"
   ]
  },
  {
   "cell_type": "code",
   "execution_count": 3,
   "id": "5e557196-5e53-4c8c-8a34-6588410324d2",
   "metadata": {},
   "outputs": [
    {
     "name": "stdout",
     "output_type": "stream",
     "text": [
      "Collecting pandas\n",
      "  Obtaining dependency information for pandas from https://files.pythonhosted.org/packages/b7/f8/32d6b5aa4c4bc045fa2c4c58f88c325facc54721956c6313f0afea8ea853/pandas-2.1.0-cp311-cp311-win_amd64.whl.metadata\n",
      "  Downloading pandas-2.1.0-cp311-cp311-win_amd64.whl.metadata (18 kB)\n",
      "Collecting numpy>=1.23.2 (from pandas)\n",
      "  Obtaining dependency information for numpy>=1.23.2 from https://files.pythonhosted.org/packages/72/b2/02770e60c4e2f7e158d923ab0dea4e9f146a2dbf267fec6d8dc61d475689/numpy-1.25.2-cp311-cp311-win_amd64.whl.metadata\n",
      "  Downloading numpy-1.25.2-cp311-cp311-win_amd64.whl.metadata (5.7 kB)\n",
      "Requirement already satisfied: python-dateutil>=2.8.2 in c:\\users\\reyes\\appdata\\local\\programs\\python\\python311\\lib\\site-packages (from pandas) (2.8.2)\n",
      "Collecting pytz>=2020.1 (from pandas)\n",
      "  Downloading pytz-2023.3-py2.py3-none-any.whl (502 kB)\n",
      "     ---------------------------------------- 0.0/502.3 kB ? eta -:--:--\n",
      "     -------------------- ----------------- 276.5/502.3 kB 8.6 MB/s eta 0:00:01\n",
      "     -------------------------------------  501.8/502.3 kB 6.3 MB/s eta 0:00:01\n",
      "     -------------------------------------- 502.3/502.3 kB 5.2 MB/s eta 0:00:00\n",
      "Collecting tzdata>=2022.1 (from pandas)\n",
      "  Downloading tzdata-2023.3-py2.py3-none-any.whl (341 kB)\n",
      "     ---------------------------------------- 0.0/341.8 kB ? eta -:--:--\n",
      "     ------------------------------------  337.9/341.8 kB 10.2 MB/s eta 0:00:01\n",
      "     -------------------------------------- 341.8/341.8 kB 7.1 MB/s eta 0:00:00\n",
      "Requirement already satisfied: six>=1.5 in c:\\users\\reyes\\appdata\\local\\programs\\python\\python311\\lib\\site-packages (from python-dateutil>=2.8.2->pandas) (1.16.0)\n",
      "Downloading pandas-2.1.0-cp311-cp311-win_amd64.whl (11.0 MB)\n",
      "   ---------------------------------------- 0.0/11.0 MB ? eta -:--:--\n",
      "    --------------------------------------- 0.2/11.0 MB 7.6 MB/s eta 0:00:02\n",
      "   -- ------------------------------------- 0.6/11.0 MB 7.0 MB/s eta 0:00:02\n",
      "   --- ------------------------------------ 0.9/11.0 MB 7.0 MB/s eta 0:00:02\n",
      "   ---- ----------------------------------- 1.2/11.0 MB 6.9 MB/s eta 0:00:02\n",
      "   ----- ---------------------------------- 1.5/11.0 MB 6.9 MB/s eta 0:00:02\n",
      "   ------ --------------------------------- 1.8/11.0 MB 6.9 MB/s eta 0:00:02\n",
      "   ------- -------------------------------- 2.2/11.0 MB 6.9 MB/s eta 0:00:02\n",
      "   -------- ------------------------------- 2.5/11.0 MB 6.8 MB/s eta 0:00:02\n",
      "   ---------- ----------------------------- 2.8/11.0 MB 6.9 MB/s eta 0:00:02\n",
      "   ----------- ---------------------------- 3.1/11.0 MB 6.7 MB/s eta 0:00:02\n",
      "   ------------ --------------------------- 3.4/11.0 MB 6.6 MB/s eta 0:00:02\n",
      "   ------------- -------------------------- 3.7/11.0 MB 6.8 MB/s eta 0:00:02\n",
      "   -------------- ------------------------- 4.0/11.0 MB 6.8 MB/s eta 0:00:02\n",
      "   --------------- ------------------------ 4.3/11.0 MB 6.8 MB/s eta 0:00:01\n",
      "   ---------------- ----------------------- 4.7/11.0 MB 6.8 MB/s eta 0:00:01\n",
      "   ------------------ --------------------- 5.0/11.0 MB 6.8 MB/s eta 0:00:01\n",
      "   ------------------- -------------------- 5.3/11.0 MB 6.7 MB/s eta 0:00:01\n",
      "   -------------------- ------------------- 5.6/11.0 MB 6.7 MB/s eta 0:00:01\n",
      "   ----------------------- ---------------- 6.5/11.0 MB 6.6 MB/s eta 0:00:01\n",
      "   ------------------------- -------------- 7.0/11.0 MB 6.6 MB/s eta 0:00:01\n",
      "   -------------------------- ------------- 7.3/11.0 MB 6.6 MB/s eta 0:00:01\n",
      "   --------------------------- ------------ 7.7/11.0 MB 6.6 MB/s eta 0:00:01\n",
      "   ----------------------------- ---------- 8.0/11.0 MB 6.7 MB/s eta 0:00:01\n",
      "   ------------------------------ --------- 8.4/11.0 MB 6.6 MB/s eta 0:00:01\n",
      "   ------------------------------- -------- 8.6/11.0 MB 6.6 MB/s eta 0:00:01\n",
      "   -------------------------------- ------- 8.9/11.0 MB 6.5 MB/s eta 0:00:01\n",
      "   --------------------------------- ------ 9.2/11.0 MB 6.6 MB/s eta 0:00:01\n",
      "   ---------------------------------- ----- 9.6/11.0 MB 6.6 MB/s eta 0:00:01\n",
      "   ----------------------------------- ---- 9.9/11.0 MB 6.6 MB/s eta 0:00:01\n",
      "   ------------------------------------- -- 10.3/11.0 MB 6.6 MB/s eta 0:00:01\n",
      "   ------------------------------------- -- 10.5/11.0 MB 6.6 MB/s eta 0:00:01\n",
      "   ---------------------------------------  10.8/11.0 MB 6.5 MB/s eta 0:00:01\n",
      "   ---------------------------------------  11.0/11.0 MB 6.5 MB/s eta 0:00:01\n",
      "   ---------------------------------------  11.0/11.0 MB 6.4 MB/s eta 0:00:01\n",
      "   ---------------------------------------- 11.0/11.0 MB 6.1 MB/s eta 0:00:00\n",
      "Downloading numpy-1.25.2-cp311-cp311-win_amd64.whl (15.5 MB)\n",
      "   ---------------------------------------- 0.0/15.5 MB ? eta -:--:--\n",
      "    --------------------------------------- 0.3/15.5 MB 9.6 MB/s eta 0:00:02\n",
      "   - -------------------------------------- 0.6/15.5 MB 7.4 MB/s eta 0:00:03\n",
      "   -- ------------------------------------- 0.8/15.5 MB 5.9 MB/s eta 0:00:03\n",
      "   -- ------------------------------------- 1.1/15.5 MB 6.6 MB/s eta 0:00:03\n",
      "   --- ------------------------------------ 1.5/15.5 MB 6.8 MB/s eta 0:00:03\n",
      "   ---- ----------------------------------- 1.9/15.5 MB 6.6 MB/s eta 0:00:03\n",
      "   ----- ---------------------------------- 2.2/15.5 MB 6.5 MB/s eta 0:00:03\n",
      "   ------ --------------------------------- 2.5/15.5 MB 6.6 MB/s eta 0:00:02\n",
      "   ------- -------------------------------- 2.7/15.5 MB 6.5 MB/s eta 0:00:02\n",
      "   ------- -------------------------------- 3.1/15.5 MB 6.7 MB/s eta 0:00:02\n",
      "   -------- ------------------------------- 3.3/15.5 MB 6.5 MB/s eta 0:00:02\n",
      "   --------- ------------------------------ 3.7/15.5 MB 6.6 MB/s eta 0:00:02\n",
      "   ---------- ----------------------------- 4.0/15.5 MB 6.6 MB/s eta 0:00:02\n",
      "   ----------- ---------------------------- 4.4/15.5 MB 6.6 MB/s eta 0:00:02\n",
      "   ----------- ---------------------------- 4.6/15.5 MB 6.6 MB/s eta 0:00:02\n",
      "   ------------ --------------------------- 5.0/15.5 MB 6.6 MB/s eta 0:00:02\n",
      "   ------------- -------------------------- 5.3/15.5 MB 6.7 MB/s eta 0:00:02\n",
      "   -------------- ------------------------- 5.7/15.5 MB 6.7 MB/s eta 0:00:02\n",
      "   --------------- ------------------------ 6.0/15.5 MB 6.6 MB/s eta 0:00:02\n",
      "   ---------------- ----------------------- 6.3/15.5 MB 6.7 MB/s eta 0:00:02\n",
      "   ----------------- ---------------------- 6.6/15.5 MB 6.7 MB/s eta 0:00:02\n",
      "   ----------------- ---------------------- 6.9/15.5 MB 6.6 MB/s eta 0:00:02\n",
      "   ------------------ --------------------- 7.3/15.5 MB 6.7 MB/s eta 0:00:02\n",
      "   ------------------- -------------------- 7.6/15.5 MB 6.7 MB/s eta 0:00:02\n",
      "   -------------------- ------------------- 8.0/15.5 MB 6.8 MB/s eta 0:00:02\n",
      "   --------------------- ------------------ 8.2/15.5 MB 6.7 MB/s eta 0:00:02\n",
      "   --------------------- ------------------ 8.5/15.5 MB 6.7 MB/s eta 0:00:02\n",
      "   ---------------------- ----------------- 8.9/15.5 MB 6.7 MB/s eta 0:00:02\n",
      "   ----------------------- ---------------- 9.2/15.5 MB 6.7 MB/s eta 0:00:01\n",
      "   ------------------------ --------------- 9.5/15.5 MB 6.7 MB/s eta 0:00:01\n",
      "   ------------------------- -------------- 9.8/15.5 MB 6.7 MB/s eta 0:00:01\n",
      "   -------------------------- ------------- 10.2/15.5 MB 6.7 MB/s eta 0:00:01\n",
      "   -------------------------- ------------- 10.4/15.5 MB 6.6 MB/s eta 0:00:01\n",
      "   --------------------------- ------------ 10.8/15.5 MB 6.7 MB/s eta 0:00:01\n",
      "   ---------------------------- ----------- 11.1/15.5 MB 6.7 MB/s eta 0:00:01\n",
      "   ----------------------------- ---------- 11.4/15.5 MB 6.7 MB/s eta 0:00:01\n",
      "   ------------------------------ --------- 11.7/15.5 MB 6.8 MB/s eta 0:00:01\n",
      "   ------------------------------ --------- 12.0/15.5 MB 6.7 MB/s eta 0:00:01\n",
      "   ------------------------------- -------- 12.2/15.5 MB 6.6 MB/s eta 0:00:01\n",
      "   -------------------------------- ------- 12.6/15.5 MB 6.5 MB/s eta 0:00:01\n",
      "   --------------------------------- ------ 12.9/15.5 MB 6.6 MB/s eta 0:00:01\n",
      "   ---------------------------------- ----- 13.3/15.5 MB 6.6 MB/s eta 0:00:01\n",
      "   ---------------------------------- ----- 13.5/15.5 MB 6.6 MB/s eta 0:00:01\n",
      "   ----------------------------------- ---- 13.8/15.5 MB 6.6 MB/s eta 0:00:01\n",
      "   ------------------------------------ --- 14.1/15.5 MB 6.5 MB/s eta 0:00:01\n",
      "   ------------------------------------ --- 14.3/15.5 MB 6.5 MB/s eta 0:00:01\n",
      "   ------------------------------------- -- 14.6/15.5 MB 6.5 MB/s eta 0:00:01\n",
      "   -------------------------------------- - 14.9/15.5 MB 6.5 MB/s eta 0:00:01\n",
      "   -------------------------------------- - 15.1/15.5 MB 6.4 MB/s eta 0:00:01\n",
      "   ---------------------------------------  15.4/15.5 MB 6.4 MB/s eta 0:00:01\n",
      "   ---------------------------------------  15.5/15.5 MB 6.4 MB/s eta 0:00:01\n",
      "   ---------------------------------------  15.5/15.5 MB 6.2 MB/s eta 0:00:01\n",
      "   ---------------------------------------  15.5/15.5 MB 6.2 MB/s eta 0:00:01\n",
      "   ---------------------------------------- 15.5/15.5 MB 5.5 MB/s eta 0:00:00\n",
      "Installing collected packages: pytz, tzdata, numpy, pandas\n",
      "Successfully installed numpy-1.25.2 pandas-2.1.0 pytz-2023.3 tzdata-2023.3\n"
     ]
    }
   ],
   "source": [
    "!pip install pandas"
   ]
  },
  {
   "cell_type": "code",
   "execution_count": 4,
   "id": "05210ace-d09d-4f83-b38a-295b895e3bba",
   "metadata": {},
   "outputs": [],
   "source": [
    "#Import libraries\n",
    "import mysql.connector\n",
    "from mysql.connector import Error\n",
    "import pandas as pd"
   ]
  },
  {
   "cell_type": "code",
   "execution_count": 12,
   "id": "82ed0c4c-a058-4c16-9bab-7d803569c450",
   "metadata": {},
   "outputs": [
    {
     "name": "stdout",
     "output_type": "stream",
     "text": [
      "MySQL Database connection successful\n"
     ]
    }
   ],
   "source": [
    "import mysql.connector\n",
    "from mysql.connector import Error\n",
    "\n",
    "# Connecting to MySQL Server\n",
    "def create_server_connection(host_name, user_name, user_password):\n",
    "    connection = None\n",
    "    try:\n",
    "        connection = mysql.connector.connect(\n",
    "            host=host_name,\n",
    "            user=user_name,\n",
    "            passwd=user_password\n",
    "        )\n",
    "        print(\"MySQL Database connection successful\")\n",
    "    except Error as err:\n",
    "        print(f\"Error: '{err}'\")\n",
    "\n",
    "    return connection\n",
    "\n",
    "# MySQL terminal password\n",
    "pw = \"password123\"\n",
    "\n",
    "# Database name\n",
    "db = \"dummy_db\"\n",
    "connection = create_server_connection(\"localhost\", \"root\", pw)"
   ]
  },
  {
   "cell_type": "code",
   "execution_count": 13,
   "id": "7bde9b93-fd5a-4776-b6b4-f5282020a4ca",
   "metadata": {},
   "outputs": [
    {
     "name": "stdout",
     "output_type": "stream",
     "text": [
      "Error: '1007 (HY000): Can't create database 'dummy_db'; database exists'\n"
     ]
    }
   ],
   "source": [
    "#Create dummy_db\n",
    "def create_database(connection, query):\n",
    "    cursor = connection.cursor()\n",
    "    try:\n",
    "        cursor.execute(query)\n",
    "        print(\"Database created successfully\")\n",
    "    except Error as err:\n",
    "        print(f\"Error: '{err}'\")\n",
    "create_database_query = \"Create database dummy_db\"\n",
    "create_database(connection, create_database_query)"
   ]
  },
  {
   "cell_type": "code",
   "execution_count": 14,
   "id": "450a3a94-8b02-456f-90c4-48354d9ad499",
   "metadata": {},
   "outputs": [],
   "source": [
    "#Connect to Database\n",
    "def create_db_connection(host_name, user_name, user_password, db_name):\n",
    "    connection = None\n",
    "    try:\n",
    "        connection = mysql.connector.connect(\n",
    "            host=host_name,\n",
    "            user=user_name,\n",
    "            passwd=user_password,\n",
    "            database=db_name\n",
    "        )\n",
    "        print(\"MySQL Database connection successful\")\n",
    "    except Error as err:\n",
    "        print(f\"Error: '{err}'\")\n",
    "\n",
    "    return connection"
   ]
  },
  {
   "cell_type": "code",
   "execution_count": 15,
   "id": "d556aed2-1ece-4fac-8c35-425105782494",
   "metadata": {},
   "outputs": [],
   "source": [
    "#Execute SQL Queries\n",
    "def execute_query(connection, query):\n",
    "    cursor = connection.cursor()\n",
    "    try:\n",
    "        cursor.execute(query)\n",
    "        connection.commit()\n",
    "        print(\"Query successful\")\n",
    "    except Error as err:\n",
    "        print(f\"Error: '{err}'\")"
   ]
  },
  {
   "cell_type": "code",
   "execution_count": 25,
   "id": "763672e8-de51-4e96-ae2f-51e003cd57c8",
   "metadata": {},
   "outputs": [
    {
     "name": "stdout",
     "output_type": "stream",
     "text": [
      "MySQL Database connection successful\n",
      "Query successful\n"
     ]
    }
   ],
   "source": [
    "#Create books table from dummy database\n",
    "create_books_table = \"\"\"\n",
    "CREATE TABLE Books(\n",
    "    BookID int primary key NOT NULL,\n",
    "    BookName varchar(50) NULL,\n",
    "    Category varchar(50) NULL,\n",
    "    Price numeric(18, 2) NULL,\n",
    "    Price_Range varchar(20) NULL\n",
    ")\n",
    " \"\"\"\n",
    "\n",
    "# Connect to the Database\n",
    "connection = create_db_connection(\"localhost\", \"root\", pw, db) \n",
    "execute_query(connection, create_books_table)"
   ]
  },
  {
   "cell_type": "code",
   "execution_count": 28,
   "id": "97f2d0d4-2c08-42e1-88ed-cc34cc7c8873",
   "metadata": {},
   "outputs": [
    {
     "name": "stdout",
     "output_type": "stream",
     "text": [
      "MySQL Database connection successful\n",
      "Query successful\n"
     ]
    }
   ],
   "source": [
    "#Insert data to table\n",
    "insert_books = \"\"\"\n",
    "INSERT INTO Books\n",
    "    (BookID, BookName, Category, Price, Price_Range)\n",
    "VALUES\t\n",
    "    ('1', 'Computer Architecture', 'Computers', 125.6, '100-150'),\n",
    "    ('2', 'Advanced Composite Materials', 'Science', 172.56, '150-200'),\n",
    "    ('3', 'Asp.Net 4 Blue Book', 'Programming', 56.00, '50-100'),\n",
    "    ('4', 'Strategies Unplugged', 'Science', 99.99, '50-100'),\n",
    "    ('5', 'Teaching Science', 'Science', 164.10, '150-200'),\n",
    "    ('6', 'Challenging Times', 'Business', 150.70, '150-200'),\n",
    "    ('7', 'Circuit Bending', 'Science', 112.00, '100-150'),\n",
    "    ('8', 'Popular Science', 'Science', 210.40, '200-250'),\n",
    "    ('9', 'ADOBE Premiere', 'Computers', 62.20, '50-100')\n",
    "\"\"\"\n",
    "\n",
    "connection = create_db_connection(\"localhost\", \"root\", pw, db)\n",
    "execute_query(connection, insert_books)"
   ]
  },
  {
   "cell_type": "code",
   "execution_count": 29,
   "id": "3967f688-04e3-49b9-ad9e-8aedc3f4863c",
   "metadata": {},
   "outputs": [],
   "source": [
    "#Reading data\n",
    "def read_query(connection, query):\n",
    "    cursor = connection.cursor()\n",
    "    result = None\n",
    "    try:\n",
    "        cursor.execute(query)\n",
    "        result = cursor.fetchall()\n",
    "        return result\n",
    "    except Error as err:\n",
    "        print(f\"Error: '{err}'\")"
   ]
  },
  {
   "cell_type": "code",
   "execution_count": 53,
   "id": "62d9087f-003f-49bf-aeb6-4fc42957222f",
   "metadata": {},
   "outputs": [
    {
     "name": "stdout",
     "output_type": "stream",
     "text": [
      "MySQL Database connection successful\n",
      "(1, 'Computer Architecture', 'Computers', Decimal('125.60'), '100-150')\n",
      "(2, 'Advanced Composite Materials', 'Science', Decimal('172.56'), '150-200')\n",
      "(3, 'Asp.Net 4 Blue Book', 'Programming', Decimal('56.00'), '50-100')\n",
      "(4, 'Strategies Unplugged', 'Science', Decimal('99.99'), '50-100')\n",
      "(5, 'Teaching Science', 'Science', Decimal('164.10'), '150-200')\n",
      "(6, 'Challenging Times', 'Business', Decimal('150.70'), '150-200')\n",
      "(7, 'Circuit Bending', 'Science', Decimal('112.00'), '100-150')\n",
      "(8, 'Popular Science', 'Science', Decimal('210.40'), '200-250')\n",
      "(9, 'ADOBE Premiere', 'Computers', Decimal('62.20'), '50-100')\n"
     ]
    }
   ],
   "source": [
    "#Using SELECT statement to display data\n",
    "q1 = \"\"\"\n",
    "SELECT * \n",
    "FROM books;\n",
    "\"\"\"\n",
    "\n",
    "connection = create_db_connection(\"localhost\", \"root\", pw, db)\n",
    "results = read_query(connection, q1)\n",
    "for result in results:\n",
    "    print(result)"
   ]
  },
  {
   "cell_type": "code",
   "execution_count": 35,
   "id": "195e37d7-ac79-4d8d-85cf-7bdcc01e9323",
   "metadata": {},
   "outputs": [
    {
     "name": "stdout",
     "output_type": "stream",
     "text": [
      "MySQL Database connection successful\n",
      "('Computer Architecture', Decimal('125.60'))\n",
      "('Advanced Composite Materials', Decimal('172.56'))\n",
      "('Asp.Net 4 Blue Book', Decimal('56.00'))\n",
      "('Strategies Unplugged', Decimal('99.99'))\n",
      "('Teaching Science', Decimal('164.10'))\n",
      "('Challenging Times', Decimal('150.70'))\n",
      "('Circuit Bending', Decimal('112.00'))\n",
      "('Popular Science', Decimal('210.40'))\n",
      "('ADOBE Premiere', Decimal('62.20'))\n"
     ]
    }
   ],
   "source": [
    "#Getting only the BookName and the Price\n",
    "q2 = \"\"\"\n",
    "SELECT BookName, Price \n",
    "FROM books;\n",
    "\"\"\"\n",
    "\n",
    "connection = create_db_connection(\"localhost\", \"root\", pw, db)\n",
    "results = read_query(connection, q2)\n",
    "for result in results:\n",
    "    print(result)"
   ]
  },
  {
   "cell_type": "code",
   "execution_count": 36,
   "id": "9fe10803-49d0-46c1-a2e8-cae806eec7c8",
   "metadata": {},
   "outputs": [
    {
     "name": "stdout",
     "output_type": "stream",
     "text": [
      "MySQL Database connection successful\n",
      "('Computers',)\n",
      "('Science',)\n",
      "('Programming',)\n",
      "('Business',)\n"
     ]
    }
   ],
   "source": [
    "#Getting all the distinct book Category\n",
    "q3 = \"\"\"\n",
    "SELECT distinct Category \n",
    "FROM books;\n",
    "\"\"\"\n",
    "\n",
    "connection = create_db_connection(\"localhost\", \"root\", pw, db)\n",
    "results = read_query(connection, q3)\n",
    "for result in results:\n",
    "    print(result)"
   ]
  },
  {
   "cell_type": "code",
   "execution_count": 37,
   "id": "465b85da-397c-400f-a4d5-81ecfa7c6e1e",
   "metadata": {},
   "outputs": [
    {
     "name": "stdout",
     "output_type": "stream",
     "text": [
      "MySQL Database connection successful\n",
      "(2, 'Advanced Composite Materials', 'Science', Decimal('172.56'), '150-200')\n",
      "(5, 'Teaching Science', 'Science', Decimal('164.10'), '150-200')\n",
      "(6, 'Challenging Times', 'Business', Decimal('150.70'), '150-200')\n",
      "(8, 'Popular Science', 'Science', Decimal('210.40'), '200-250')\n"
     ]
    }
   ],
   "source": [
    "#Getting the data in which the Price is greater than 150\n",
    "q4 = \"\"\"\n",
    "SELECT * \n",
    "FROM books\n",
    "WHERE Price > 150;\n",
    "\"\"\"\n",
    "\n",
    "connection = create_db_connection(\"localhost\", \"root\", pw, db)\n",
    "results = read_query(connection, q4)\n",
    "for result in results:\n",
    "    print(result)"
   ]
  },
  {
   "cell_type": "code",
   "execution_count": 40,
   "id": "0dfa24a9-05cb-4402-9bff-238156ed0d77",
   "metadata": {},
   "outputs": [
    {
     "name": "stdout",
     "output_type": "stream",
     "text": [
      "MySQL Database connection successful\n",
      "(1, 'Computer Architecture')\n",
      "(3, 'Asp.Net 4 Blue Book')\n",
      "(4, 'Strategies Unplugged')\n",
      "(7, 'Circuit Bending')\n",
      "(9, 'ADOBE Premiere')\n"
     ]
    }
   ],
   "source": [
    "#Getting the BookID and BookName in which the Price is less than 150\n",
    "q5 = \"\"\"\n",
    "SELECT BookID, BookName \n",
    "FROM books\n",
    "WHERE Price < 150;\n",
    "\"\"\"\n",
    "\n",
    "connection = create_db_connection(\"localhost\", \"root\", pw, db)\n",
    "results = read_query(connection, q5)\n",
    "for result in results:\n",
    "    print(result)"
   ]
  },
  {
   "cell_type": "code",
   "execution_count": 42,
   "id": "0ee02f5f-cdab-43f6-989a-5bb218b74586",
   "metadata": {},
   "outputs": [
    {
     "name": "stdout",
     "output_type": "stream",
     "text": [
      "MySQL Database connection successful\n",
      "(3, 'Asp.Net 4 Blue Book', Decimal('56.00'))\n",
      "(9, 'ADOBE Premiere', Decimal('62.20'))\n",
      "(4, 'Strategies Unplugged', Decimal('99.99'))\n",
      "(7, 'Circuit Bending', Decimal('112.00'))\n",
      "(1, 'Computer Architecture', Decimal('125.60'))\n",
      "(6, 'Challenging Times', Decimal('150.70'))\n",
      "(5, 'Teaching Science', Decimal('164.10'))\n",
      "(2, 'Advanced Composite Materials', Decimal('172.56'))\n",
      "(8, 'Popular Science', Decimal('210.40'))\n"
     ]
    }
   ],
   "source": [
    "#Arrange the BookID, BookName, and Price in ascending order based from the Price\n",
    "q6 = \"\"\"\n",
    "SELECT BookID, BookName, Price \n",
    "FROM books\n",
    "ORDER BY Price;\n",
    "\"\"\"\n",
    "\n",
    "connection = create_db_connection(\"localhost\", \"root\", pw, db)\n",
    "results = read_query(connection, q6)\n",
    "for result in results:\n",
    "    print(result)"
   ]
  },
  {
   "cell_type": "code",
   "execution_count": 59,
   "id": "797b5f72-7c39-46eb-b727-304fbb465ab3",
   "metadata": {},
   "outputs": [
    {
     "name": "stdout",
     "output_type": "stream",
     "text": [
      "MySQL Database connection successful\n",
      "(1, 'Computer Architecture', 'Computers', Decimal('143.00'), '100-150')\n",
      "(2, 'Advanced Composite Materials', 'Science', Decimal('172.56'), '150-200')\n",
      "(3, 'Asp.Net 4 Blue Book', 'Programming', Decimal('56.00'), '50-100')\n",
      "(4, 'Strategies Unplugged', 'Science', Decimal('99.99'), '50-100')\n",
      "(5, 'Teaching Science', 'Science', Decimal('164.10'), '150-200')\n",
      "(6, 'Challenging Times', 'Business', Decimal('150.70'), '150-200')\n",
      "(7, 'Circuit Bending', 'Science', Decimal('112.00'), '100-150')\n",
      "(8, 'Popular Science', 'Science', Decimal('210.40'), '200-250')\n",
      "(9, 'ADOBE Premiere', 'Computers', Decimal('62.20'), '50-100')\n"
     ]
    }
   ],
   "source": [
    "#Using SELECT statement to display data\n",
    "q7 = \"\"\"\n",
    "SELECT * \n",
    "FROM books;\n",
    "\"\"\"\n",
    "\n",
    "connection = create_db_connection(\"localhost\", \"root\", pw, db)\n",
    "results = read_query(connection, q7)\n",
    "for result in results:\n",
    "    print(result)"
   ]
  },
  {
   "cell_type": "code",
   "execution_count": 60,
   "id": "abc1df49-7e64-4f1d-8161-19256ec1f492",
   "metadata": {},
   "outputs": [
    {
     "data": {
      "text/html": [
       "<div>\n",
       "<style scoped>\n",
       "    .dataframe tbody tr th:only-of-type {\n",
       "        vertical-align: middle;\n",
       "    }\n",
       "\n",
       "    .dataframe tbody tr th {\n",
       "        vertical-align: top;\n",
       "    }\n",
       "\n",
       "    .dataframe thead th {\n",
       "        text-align: right;\n",
       "    }\n",
       "</style>\n",
       "<table border=\"1\" class=\"dataframe\">\n",
       "  <thead>\n",
       "    <tr style=\"text-align: right;\">\n",
       "      <th></th>\n",
       "      <th>BookID</th>\n",
       "      <th>BookName</th>\n",
       "      <th>Category</th>\n",
       "      <th>Price</th>\n",
       "      <th>Price_Range</th>\n",
       "    </tr>\n",
       "  </thead>\n",
       "  <tbody>\n",
       "    <tr>\n",
       "      <th>0</th>\n",
       "      <td>1</td>\n",
       "      <td>Computer Architecture</td>\n",
       "      <td>Computers</td>\n",
       "      <td>143.00</td>\n",
       "      <td>100-150</td>\n",
       "    </tr>\n",
       "    <tr>\n",
       "      <th>1</th>\n",
       "      <td>2</td>\n",
       "      <td>Advanced Composite Materials</td>\n",
       "      <td>Science</td>\n",
       "      <td>172.56</td>\n",
       "      <td>150-200</td>\n",
       "    </tr>\n",
       "    <tr>\n",
       "      <th>2</th>\n",
       "      <td>3</td>\n",
       "      <td>Asp.Net 4 Blue Book</td>\n",
       "      <td>Programming</td>\n",
       "      <td>56.00</td>\n",
       "      <td>50-100</td>\n",
       "    </tr>\n",
       "    <tr>\n",
       "      <th>3</th>\n",
       "      <td>4</td>\n",
       "      <td>Strategies Unplugged</td>\n",
       "      <td>Science</td>\n",
       "      <td>99.99</td>\n",
       "      <td>50-100</td>\n",
       "    </tr>\n",
       "    <tr>\n",
       "      <th>4</th>\n",
       "      <td>5</td>\n",
       "      <td>Teaching Science</td>\n",
       "      <td>Science</td>\n",
       "      <td>164.10</td>\n",
       "      <td>150-200</td>\n",
       "    </tr>\n",
       "    <tr>\n",
       "      <th>5</th>\n",
       "      <td>6</td>\n",
       "      <td>Challenging Times</td>\n",
       "      <td>Business</td>\n",
       "      <td>150.70</td>\n",
       "      <td>150-200</td>\n",
       "    </tr>\n",
       "    <tr>\n",
       "      <th>6</th>\n",
       "      <td>7</td>\n",
       "      <td>Circuit Bending</td>\n",
       "      <td>Science</td>\n",
       "      <td>112.00</td>\n",
       "      <td>100-150</td>\n",
       "    </tr>\n",
       "    <tr>\n",
       "      <th>7</th>\n",
       "      <td>8</td>\n",
       "      <td>Popular Science</td>\n",
       "      <td>Science</td>\n",
       "      <td>210.40</td>\n",
       "      <td>200-250</td>\n",
       "    </tr>\n",
       "    <tr>\n",
       "      <th>8</th>\n",
       "      <td>9</td>\n",
       "      <td>ADOBE Premiere</td>\n",
       "      <td>Computers</td>\n",
       "      <td>62.20</td>\n",
       "      <td>50-100</td>\n",
       "    </tr>\n",
       "  </tbody>\n",
       "</table>\n",
       "</div>"
      ],
      "text/plain": [
       "   BookID                      BookName     Category   Price Price_Range\n",
       "0       1         Computer Architecture    Computers  143.00     100-150\n",
       "1       2  Advanced Composite Materials      Science  172.56     150-200\n",
       "2       3           Asp.Net 4 Blue Book  Programming   56.00      50-100\n",
       "3       4          Strategies Unplugged      Science   99.99      50-100\n",
       "4       5              Teaching Science      Science  164.10     150-200\n",
       "5       6             Challenging Times     Business  150.70     150-200\n",
       "6       7               Circuit Bending      Science  112.00     100-150\n",
       "7       8               Popular Science      Science  210.40     200-250\n",
       "8       9                ADOBE Premiere    Computers   62.20      50-100"
      ]
     },
     "metadata": {},
     "output_type": "display_data"
    }
   ],
   "source": [
    "# Returns a list of lists and then creates a pandas DataFrame\n",
    "from_db = []\n",
    "\n",
    "for result in results:\n",
    "  result = list(result)\n",
    "  from_db.append(result)\n",
    "\n",
    "\n",
    "columns = [\"BookID\", \"BookName\", \"Category\", \"Price\", \"Price_Range\"]\n",
    "df = pd.DataFrame(from_db, columns=columns)\n",
    "\n",
    "display(df)"
   ]
  },
  {
   "cell_type": "code",
   "execution_count": 61,
   "id": "8810e8cb-46f4-4b5d-8296-831146895a05",
   "metadata": {},
   "outputs": [
    {
     "name": "stdout",
     "output_type": "stream",
     "text": [
      "MySQL Database connection successful\n",
      "Query successful\n"
     ]
    }
   ],
   "source": [
    "#Using Update command\n",
    "update = \"\"\"\n",
    "UPDATE books\n",
    "SET Price = '143.00' \n",
    "WHERE BookID = 1;\n",
    "\"\"\"\n",
    "\n",
    "connection = create_db_connection(\"localhost\", \"root\", pw, db)\n",
    "execute_query(connection, update)"
   ]
  },
  {
   "cell_type": "code",
   "execution_count": 62,
   "id": "1e6144df-9c0a-41f7-a8a9-43a58de94219",
   "metadata": {},
   "outputs": [
    {
     "name": "stdout",
     "output_type": "stream",
     "text": [
      "MySQL Database connection successful\n",
      "(1, 'Computer Architecture', 'Computers', Decimal('143.00'), '100-150')\n"
     ]
    }
   ],
   "source": [
    "#Check the updated data\n",
    "q8 = \"\"\"\n",
    "SELECT * \n",
    "FROM books\n",
    "WHERE BookID = 1;\n",
    "\"\"\"\n",
    "\n",
    "connection = create_db_connection(\"localhost\", \"root\", pw, db)\n",
    "results = read_query(connection, q8)\n",
    "for result in results:\n",
    "    print(result)"
   ]
  },
  {
   "cell_type": "code",
   "execution_count": 63,
   "id": "d4b8da30-7c22-4f2b-8ab9-7265a2a129a5",
   "metadata": {},
   "outputs": [
    {
     "name": "stdout",
     "output_type": "stream",
     "text": [
      "MySQL Database connection successful\n",
      "Query successful\n"
     ]
    }
   ],
   "source": [
    "#Using the DELETE command\n",
    "delete_book = \"\"\"\n",
    "DELETE FROM books \n",
    "WHERE BookID = 8;\n",
    "\"\"\"\n",
    "\n",
    "connection = create_db_connection(\"localhost\", \"root\", pw, db)\n",
    "execute_query(connection, delete_book)"
   ]
  },
  {
   "cell_type": "code",
   "execution_count": 64,
   "id": "3c9b8c09-5715-4e79-a452-ea3478aa4e0e",
   "metadata": {},
   "outputs": [
    {
     "name": "stdout",
     "output_type": "stream",
     "text": [
      "MySQL Database connection successful\n",
      "(1, 'Computer Architecture', 'Computers', Decimal('143.00'), '100-150')\n",
      "(2, 'Advanced Composite Materials', 'Science', Decimal('172.56'), '150-200')\n",
      "(3, 'Asp.Net 4 Blue Book', 'Programming', Decimal('56.00'), '50-100')\n",
      "(4, 'Strategies Unplugged', 'Science', Decimal('99.99'), '50-100')\n",
      "(5, 'Teaching Science', 'Science', Decimal('164.10'), '150-200')\n",
      "(6, 'Challenging Times', 'Business', Decimal('150.70'), '150-200')\n",
      "(7, 'Circuit Bending', 'Science', Decimal('112.00'), '100-150')\n",
      "(9, 'ADOBE Premiere', 'Computers', Decimal('62.20'), '50-100')\n"
     ]
    }
   ],
   "source": [
    "#Check if the BookID 8 was deleted\n",
    "q9 = \"\"\"\n",
    "SELECT * \n",
    "FROM books\n",
    "\"\"\"\n",
    "\n",
    "connection = create_db_connection(\"localhost\", \"root\", pw, db)\n",
    "results = read_query(connection, q9)\n",
    "for result in results:\n",
    "    print(result)"
   ]
  },
  {
   "cell_type": "code",
   "execution_count": null,
   "id": "d60f84c9-e271-4f39-8416-c5d03322b3b1",
   "metadata": {},
   "outputs": [],
   "source": []
  }
 ],
 "metadata": {
  "kernelspec": {
   "display_name": "Python 3 (ipykernel)",
   "language": "python",
   "name": "python3"
  },
  "language_info": {
   "codemirror_mode": {
    "name": "ipython",
    "version": 3
   },
   "file_extension": ".py",
   "mimetype": "text/x-python",
   "name": "python",
   "nbconvert_exporter": "python",
   "pygments_lexer": "ipython3",
   "version": "3.11.5"
  }
 },
 "nbformat": 4,
 "nbformat_minor": 5
}
